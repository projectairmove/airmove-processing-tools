{
 "cells": [
  {
   "cell_type": "code",
   "execution_count": 1,
   "id": "61875bde",
   "metadata": {},
   "outputs": [
    {
     "data": {
      "text/html": [
       "<p>To authorize access needed by Earth Engine, open the following\n",
       "        URL in a web browser and follow the instructions:</p>\n",
       "        <p><a href=https://code.earthengine.google.com/client-auth?scopes=https%3A//www.googleapis.com/auth/earthengine%20https%3A//www.googleapis.com/auth/devstorage.full_control&request_id=fLEKcr__XSDY1kFau8KVoqiuC-k5k2tXbmMWcHidv2Q&tc=j97kyjk5izhChI602pozsESYj7bw_re2d7vIBmx32H0&cc=5Jih4psuR_g3mUPZrdVIB96Z6tliryWRRcsjjsj9PUI>https://code.earthengine.google.com/client-auth?scopes=https%3A//www.googleapis.com/auth/earthengine%20https%3A//www.googleapis.com/auth/devstorage.full_control&request_id=fLEKcr__XSDY1kFau8KVoqiuC-k5k2tXbmMWcHidv2Q&tc=j97kyjk5izhChI602pozsESYj7bw_re2d7vIBmx32H0&cc=5Jih4psuR_g3mUPZrdVIB96Z6tliryWRRcsjjsj9PUI</a></p>\n",
       "        <p>The authorization workflow will generate a code, which you should paste in the box below.</p>\n",
       "        "
      ],
      "text/plain": [
       "<IPython.core.display.HTML object>"
      ]
     },
     "metadata": {},
     "output_type": "display_data"
    },
    {
     "name": "stdout",
     "output_type": "stream",
     "text": [
      "Enter verification code: 4/1ARtbsJpOHNcAWkoDupJFmzkUOCQgmXrDedfkD5M32nMgYxpj5Ef6UYyj5J0\n",
      "\n",
      "Successfully saved authorization token.\n"
     ]
    }
   ],
   "source": [
    "import ee\n",
    "\n",
    "ee.Authenticate()\n",
    "ee.Initialize()"
   ]
  },
  {
   "cell_type": "code",
   "execution_count": 3,
   "id": "e7bcad59",
   "metadata": {},
   "outputs": [],
   "source": [
    "philippines = ee.Geometry.Polygon(\n",
    "        [[[116.71687839753203, 18.744929081691417],\n",
    "          [116.71687839753203, 5.019622515938524],\n",
    "          [126.91219089753203, 5.019622515938524],\n",
    "          [126.91219089753203, 18.744929081691417]]], None, False)"
   ]
  },
  {
   "cell_type": "code",
   "execution_count": 4,
   "id": "df937103",
   "metadata": {},
   "outputs": [
    {
     "name": "stdout",
     "output_type": "stream",
     "text": [
      "ee.Geometry({\n",
      "  \"functionInvocationValue\": {\n",
      "    \"functionName\": \"GeometryConstructors.Polygon\",\n",
      "    \"arguments\": {\n",
      "      \"coordinates\": {\n",
      "        \"constantValue\": [\n",
      "          [\n",
      "            [\n",
      "              116.71687839753203,\n",
      "              18.744929081691417\n",
      "            ],\n",
      "            [\n",
      "              116.71687839753203,\n",
      "              5.019622515938524\n",
      "            ],\n",
      "            [\n",
      "              126.91219089753203,\n",
      "              5.019622515938524\n",
      "            ],\n",
      "            [\n",
      "              126.91219089753203,\n",
      "              18.744929081691417\n",
      "            ]\n",
      "          ]\n",
      "        ]\n",
      "      },\n",
      "      \"geodesic\": {\n",
      "        \"constantValue\": false\n",
      "      }\n",
      "    }\n",
      "  }\n",
      "})\n"
     ]
    }
   ],
   "source": [
    "print(philippines)"
   ]
  },
  {
   "cell_type": "code",
   "execution_count": 20,
   "id": "bf44ecf8",
   "metadata": {},
   "outputs": [
    {
     "name": "stdout",
     "output_type": "stream",
     "text": [
      "ee.ImageCollection({\n",
      "  \"functionInvocationValue\": {\n",
      "    \"functionName\": \"Collection.filter\",\n",
      "    \"arguments\": {\n",
      "      \"collection\": {\n",
      "        \"functionInvocationValue\": {\n",
      "          \"functionName\": \"Collection.filter\",\n",
      "          \"arguments\": {\n",
      "            \"collection\": {\n",
      "              \"functionInvocationValue\": {\n",
      "                \"functionName\": \"Collection.map\",\n",
      "                \"arguments\": {\n",
      "                  \"baseAlgorithm\": {\n",
      "                    \"functionDefinitionValue\": {\n",
      "                      \"argumentNames\": [\n",
      "                        \"_MAPPING_VAR_0_0\"\n",
      "                      ],\n",
      "                      \"body\": {\n",
      "                        \"functionInvocationValue\": {\n",
      "                          \"functionName\": \"Image.select\",\n",
      "                          \"arguments\": {\n",
      "                            \"bandSelectors\": {\n",
      "                              \"constantValue\": [\n",
      "                                \"mean_2m_air_temperature\",\n",
      "                                \"total_precipitation\",\n",
      "                                \"u_component_of_wind_10m\",\n",
      "                                \"v_component_of_wind_10m\"\n",
      "                              ]\n",
      "                            },\n",
      "                            \"input\": {\n",
      "                              \"argumentReference\": \"_MAPPING_VAR_0_0\"\n",
      "                            }\n",
      "                          }\n",
      "                        }\n",
      "                      }\n",
      "                    }\n",
      "                  },\n",
      "                  \"collection\": {\n",
      "                    \"functionInvocationValue\": {\n",
      "                      \"functionName\": \"ImageCollection.load\",\n",
      "                      \"arguments\": {\n",
      "                        \"id\": {\n",
      "                          \"constantValue\": \"ECMWF/ERA5/DAILY\"\n",
      "                        }\n",
      "                      }\n",
      "                    }\n",
      "                  }\n",
      "                }\n",
      "              }\n",
      "            },\n",
      "            \"filter\": {\n",
      "              \"functionInvocationValue\": {\n",
      "                \"functionName\": \"Filter.intersects\",\n",
      "                \"arguments\": {\n",
      "                  \"leftField\": {\n",
      "                    \"constantValue\": \".all\"\n",
      "                  },\n",
      "                  \"rightValue\": {\n",
      "                    \"functionInvocationValue\": {\n",
      "                      \"functionName\": \"Feature\",\n",
      "                      \"arguments\": {\n",
      "                        \"geometry\": {\n",
      "                          \"functionInvocationValue\": {\n",
      "                            \"functionName\": \"GeometryConstructors.Polygon\",\n",
      "                            \"arguments\": {\n",
      "                              \"coordinates\": {\n",
      "                                \"constantValue\": [\n",
      "                                  [\n",
      "                                    [\n",
      "                                      116.71687839753203,\n",
      "                                      18.744929081691417\n",
      "                                    ],\n",
      "                                    [\n",
      "                                      116.71687839753203,\n",
      "                                      5.019622515938524\n",
      "                                    ],\n",
      "                                    [\n",
      "                                      126.91219089753203,\n",
      "                                      5.019622515938524\n",
      "                                    ],\n",
      "                                    [\n",
      "                                      126.91219089753203,\n",
      "                                      18.744929081691417\n",
      "                                    ]\n",
      "                                  ]\n",
      "                                ]\n",
      "                              },\n",
      "                              \"geodesic\": {\n",
      "                                \"constantValue\": false\n",
      "                              }\n",
      "                            }\n",
      "                          }\n",
      "                        }\n",
      "                      }\n",
      "                    }\n",
      "                  }\n",
      "                }\n",
      "              }\n",
      "            }\n",
      "          }\n",
      "        }\n",
      "      },\n",
      "      \"filter\": {\n",
      "        \"functionInvocationValue\": {\n",
      "          \"functionName\": \"Filter.dateRangeContains\",\n",
      "          \"arguments\": {\n",
      "            \"leftValue\": {\n",
      "              \"functionInvocationValue\": {\n",
      "                \"functionName\": \"DateRange\",\n",
      "                \"arguments\": {\n",
      "                  \"end\": {\n",
      "                    \"constantValue\": \"2018-06-30\"\n",
      "                  },\n",
      "                  \"start\": {\n",
      "                    \"constantValue\": \"2018-06-01\"\n",
      "                  }\n",
      "                }\n",
      "              }\n",
      "            },\n",
      "            \"rightField\": {\n",
      "              \"constantValue\": \"system:time_start\"\n",
      "            }\n",
      "          }\n",
      "        }\n",
      "      }\n",
      "    }\n",
      "  }\n",
      "})\n"
     ]
    }
   ],
   "source": [
    "start_date = '2018-06-01'\n",
    "end_date = '2018-06-30'\n",
    "\n",
    "era5 = ee.ImageCollection('ECMWF/ERA5/DAILY').select('mean_2m_air_temperature','total_precipitation','u_component_of_wind_10m','v_component_of_wind_10m').filterBounds(philippines).filter(ee.Filter.date(start_date, end_date))\n",
    "print(era5)\n"
   ]
  },
  {
   "cell_type": "code",
   "execution_count": null,
   "id": "04963b7b",
   "metadata": {},
   "outputs": [],
   "source": []
  },
  {
   "cell_type": "code",
   "execution_count": null,
   "id": "c7a115e0",
   "metadata": {},
   "outputs": [],
   "source": []
  },
  {
   "cell_type": "code",
   "execution_count": 21,
   "id": "be5e5787",
   "metadata": {},
   "outputs": [
    {
     "name": "stdout",
     "output_type": "stream",
     "text": [
      "exporting ERA5_01Jun2018 to folder 'earth-engine/era5' in GDrive\n",
      "exporting ERA5_02Jun2018 to folder 'earth-engine/era5' in GDrive\n",
      "exporting ERA5_03Jun2018 to folder 'earth-engine/era5' in GDrive\n",
      "exporting ERA5_04Jun2018 to folder 'earth-engine/era5' in GDrive\n",
      "exporting ERA5_05Jun2018 to folder 'earth-engine/era5' in GDrive\n",
      "exporting ERA5_06Jun2018 to folder 'earth-engine/era5' in GDrive\n",
      "exporting ERA5_07Jun2018 to folder 'earth-engine/era5' in GDrive\n",
      "exporting ERA5_08Jun2018 to folder 'earth-engine/era5' in GDrive\n",
      "exporting ERA5_09Jun2018 to folder 'earth-engine/era5' in GDrive\n",
      "exporting ERA5_10Jun2018 to folder 'earth-engine/era5' in GDrive\n",
      "exporting ERA5_11Jun2018 to folder 'earth-engine/era5' in GDrive\n",
      "exporting ERA5_12Jun2018 to folder 'earth-engine/era5' in GDrive\n",
      "exporting ERA5_13Jun2018 to folder 'earth-engine/era5' in GDrive\n",
      "exporting ERA5_14Jun2018 to folder 'earth-engine/era5' in GDrive\n",
      "exporting ERA5_15Jun2018 to folder 'earth-engine/era5' in GDrive\n",
      "exporting ERA5_16Jun2018 to folder 'earth-engine/era5' in GDrive\n",
      "exporting ERA5_17Jun2018 to folder 'earth-engine/era5' in GDrive\n",
      "exporting ERA5_18Jun2018 to folder 'earth-engine/era5' in GDrive\n",
      "exporting ERA5_19Jun2018 to folder 'earth-engine/era5' in GDrive\n",
      "exporting ERA5_20Jun2018 to folder 'earth-engine/era5' in GDrive\n",
      "exporting ERA5_21Jun2018 to folder 'earth-engine/era5' in GDrive\n",
      "exporting ERA5_22Jun2018 to folder 'earth-engine/era5' in GDrive\n",
      "exporting ERA5_23Jun2018 to folder 'earth-engine/era5' in GDrive\n",
      "exporting ERA5_24Jun2018 to folder 'earth-engine/era5' in GDrive\n",
      "exporting ERA5_25Jun2018 to folder 'earth-engine/era5' in GDrive\n",
      "exporting ERA5_26Jun2018 to folder 'earth-engine/era5' in GDrive\n",
      "exporting ERA5_27Jun2018 to folder 'earth-engine/era5' in GDrive\n",
      "exporting ERA5_28Jun2018 to folder 'earth-engine/era5' in GDrive\n",
      "exporting ERA5_29Jun2018 to folder 'earth-engine/era5' in GDrive\n"
     ]
    }
   ],
   "source": [
    "import geetools\n",
    "\n",
    "extra = dict(sat='ERA5')\n",
    "\n",
    "tasks = geetools.batch.Export.imagecollection.toDrive(\n",
    "            collection=era5,\n",
    "            folder='earth-engine/era5',\n",
    "            region=philippines,\n",
    "            namePattern='{sat}_{system_date}',\n",
    "            scale=31000,\n",
    "            # dataType='uint32',\n",
    "            datePattern='ddMMMy',\n",
    "            extra=extra,\n",
    "            verbose=True,\n",
    "        )"
   ]
  },
  {
   "cell_type": "code",
   "execution_count": 29,
   "id": "be8ca5ab",
   "metadata": {},
   "outputs": [
    {
     "name": "stdout",
     "output_type": "stream",
     "text": [
      "https://earthengine.googleapis.com/v1alpha/projects/earthengine-legacy/thumbnails/668a079fad9db50ec804b384cacd5147-98da5700700d89b4b7f192e8064ff6f6:getPixels\n"
     ]
    }
   ],
   "source": [
    "link = lst_img.getDownloadURL({\n",
    "    'scale': 30,\n",
    "    'crs': 'EPSG:4326',\n",
    "    'fileFormat': 'GeoTIFF',\n",
    "    'region': lyon})\n",
    "print(link)"
   ]
  },
  {
   "cell_type": "code",
   "execution_count": null,
   "id": "2e14eef1",
   "metadata": {},
   "outputs": [],
   "source": []
  }
 ],
 "metadata": {
  "kernelspec": {
   "display_name": "Python 3 (ipykernel)",
   "language": "python",
   "name": "python3"
  },
  "language_info": {
   "codemirror_mode": {
    "name": "ipython",
    "version": 3
   },
   "file_extension": ".py",
   "mimetype": "text/x-python",
   "name": "python",
   "nbconvert_exporter": "python",
   "pygments_lexer": "ipython3",
   "version": "3.8.13"
  }
 },
 "nbformat": 4,
 "nbformat_minor": 5
}
